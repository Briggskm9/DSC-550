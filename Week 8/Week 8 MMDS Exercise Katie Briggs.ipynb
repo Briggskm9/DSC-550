{
 "cells": [
  {
   "cell_type": "markdown",
   "metadata": {},
   "source": [
    "Katie Briggs\n",
    "Week 8  Exercise 11.3.2 from the Mining of Massive Dataset text\n",
    "DSC550-302"
   ]
  },
  {
   "cell_type": "code",
   "execution_count": 1,
   "metadata": {},
   "outputs": [],
   "source": [
    "# import required libraries\n",
    "import pandas as pd\n",
    "import numpy as np\n",
    "from scipy.linalg import svd"
   ]
  },
  {
   "cell_type": "code",
   "execution_count": 3,
   "metadata": {},
   "outputs": [
    {
     "data": {
      "text/plain": [
       "array([[1, 1, 1, 0, 0],\n",
       "       [3, 3, 3, 0, 0],\n",
       "       [4, 4, 4, 0, 0],\n",
       "       [5, 5, 5, 0, 0],\n",
       "       [0, 0, 0, 4, 4],\n",
       "       [0, 0, 0, 5, 5],\n",
       "       [0, 0, 0, 2, 2]])"
      ]
     },
     "execution_count": 3,
     "metadata": {},
     "output_type": "execute_result"
    }
   ],
   "source": [
    "\n",
    "movie_main = np.array([[1,1,1,0,0],[3,3,3,0,0],[4,4,4,0,0],[5,5,5,0,0],[0,0,0,4,4],[0,0,0,5,5],[0,0,0,2,2]])\n",
    "movie_main"
   ]
  },
  {
   "cell_type": "code",
   "execution_count": 4,
   "metadata": {},
   "outputs": [
    {
     "data": {
      "text/plain": [
       "array([[1, 1, 1, 0, 0],\n",
       "       [3, 3, 3, 0, 0],\n",
       "       [4, 4, 4, 0, 0],\n",
       "       [5, 5, 5, 0, 0],\n",
       "       [0, 0, 0, 4, 4],\n",
       "       [0, 0, 0, 5, 5],\n",
       "       [0, 0, 0, 2, 2],\n",
       "       [0, 3, 0, 0, 4]])"
      ]
     },
     "execution_count": 4,
     "metadata": {},
     "output_type": "execute_result"
    }
   ],
   "source": [
    "\n",
    "# add Leslie's \n",
    "movie_leslie = np.array([[1,1,1,0,0],[3,3,3,0,0],[4,4,4,0,0],\n",
    "                   [5,5,5,0,0],[0,0,0,4,4],[0,0,0,5,5],\n",
    "                   [0,0,0,2,2],[0,3,0,0,4]])\n",
    "\n",
    "movie_leslie"
   ]
  },
  {
   "cell_type": "code",
   "execution_count": 5,
   "metadata": {},
   "outputs": [
    {
     "data": {
      "text/plain": [
       "array([[-0.57735027, -0.57735027, -0.57735027,  0.        ,  0.        ],\n",
       "       [-0.        , -0.        , -0.        , -0.70710678, -0.70710678],\n",
       "       [-0.81649658,  0.40824829,  0.40824829, -0.        , -0.        ],\n",
       "       [ 0.        ,  0.        ,  0.        , -0.70710678,  0.70710678],\n",
       "       [ 0.        , -0.70710678,  0.70710678,  0.        ,  0.        ]])"
      ]
     },
     "execution_count": 5,
     "metadata": {},
     "output_type": "execute_result"
    }
   ],
   "source": [
    "# create SVD\n",
    "L_U, L_s, L_VT = svd(movie_leslie)\n",
    "Uo, so, VTo = svd(movie_main)\n",
    "\n",
    "Leslie = np.array([0,3,0,0,4])\n",
    "VTo"
   ]
  },
  {
   "cell_type": "code",
   "execution_count": 6,
   "metadata": {},
   "outputs": [
    {
     "data": {
      "text/plain": [
       "array([[0.58, 0.58, 0.58, 0.  , 0.  ],\n",
       "       [0.  , 0.  , 0.  , 0.71, 0.71]])"
      ]
     },
     "execution_count": 6,
     "metadata": {},
     "output_type": "execute_result"
    }
   ],
   "source": [
    "# follow figure in the textbook\n",
    "U = np.array([[.14,0],\n",
    "             [.42,0],\n",
    "             [.56,0],\n",
    "             [.70,0],\n",
    "             [0,.60],\n",
    "             [0,.75],\n",
    "             [0,.30]\n",
    "             ])\n",
    "\n",
    "Sigma = np.array([[12.4,0],\n",
    "                 [0,9.5]\n",
    "                 ])\n",
    "\n",
    "V_trans = np.array([[.58,.58,.58,0,0],\n",
    "                    [0,0,0,.71,.71]])\n",
    "\n",
    "V_trans"
   ]
  },
  {
   "cell_type": "code",
   "execution_count": 7,
   "metadata": {},
   "outputs": [
    {
     "data": {
      "text/plain": [
       "array([1.74, 2.84])"
      ]
     },
     "execution_count": 7,
     "metadata": {},
     "output_type": "execute_result"
    }
   ],
   "source": [
    "# multiply leslie's ratings with de-transposed V_trans matrix \n",
    "V = V_trans.transpose()\n",
    "\n",
    "# concept space\n",
    "CS = np.dot(Leslie,V)\n",
    "CS"
   ]
  },
  {
   "cell_type": "code",
   "execution_count": 8,
   "metadata": {},
   "outputs": [
    {
     "data": {
      "text/plain": [
       "array([1.0092, 1.0092, 1.0092, 2.0164, 2.0164])"
      ]
     },
     "execution_count": 8,
     "metadata": {},
     "output_type": "execute_result"
    }
   ],
   "source": [
    "# What Leslie feels about the other movies\n",
    "np.dot(CS,V_trans)"
   ]
  },
  {
   "cell_type": "code",
   "execution_count": 9,
   "metadata": {},
   "outputs": [
    {
     "data": {
      "text/plain": [
       "array([0, 3, 0, 0, 4])"
      ]
     },
     "execution_count": 9,
     "metadata": {},
     "output_type": "execute_result"
    }
   ],
   "source": [
    "Leslie"
   ]
  },
  {
   "cell_type": "code",
   "execution_count": null,
   "metadata": {},
   "outputs": [],
   "source": [
    "# leslie like romance, chick flicks, rom-coms over other movies. "
   ]
  }
 ],
 "metadata": {
  "kernelspec": {
   "display_name": "Python 3",
   "language": "python",
   "name": "python3"
  },
  "language_info": {
   "codemirror_mode": {
    "name": "ipython",
    "version": 3
   },
   "file_extension": ".py",
   "mimetype": "text/x-python",
   "name": "python",
   "nbconvert_exporter": "python",
   "pygments_lexer": "ipython3",
   "version": "3.7.6"
  }
 },
 "nbformat": 4,
 "nbformat_minor": 4
}
