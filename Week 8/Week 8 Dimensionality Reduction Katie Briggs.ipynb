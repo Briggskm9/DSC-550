{
 "cells": [
  {
   "cell_type": "markdown",
   "metadata": {},
   "source": [
    "Katie Briggs\n",
    "Week 8 Exercises\n",
    "DSC550-302"
   ]
  },
  {
   "cell_type": "markdown",
   "metadata": {},
   "source": [
    "## 1. Dimensionality Reduction Part A"
   ]
  },
  {
   "cell_type": "code",
   "execution_count": 1,
   "metadata": {},
   "outputs": [],
   "source": [
    "# import required libraries\n",
    "import pandas as pd\n",
    "import numpy as np\n",
    "import scipy.linalg as la"
   ]
  },
  {
   "cell_type": "code",
   "execution_count": 2,
   "metadata": {},
   "outputs": [
    {
     "data": {
      "text/html": [
       "<div>\n",
       "<style scoped>\n",
       "    .dataframe tbody tr th:only-of-type {\n",
       "        vertical-align: middle;\n",
       "    }\n",
       "\n",
       "    .dataframe tbody tr th {\n",
       "        vertical-align: top;\n",
       "    }\n",
       "\n",
       "    .dataframe thead th {\n",
       "        text-align: right;\n",
       "    }\n",
       "</style>\n",
       "<table border=\"1\" class=\"dataframe\">\n",
       "  <thead>\n",
       "    <tr style=\"text-align: right;\">\n",
       "      <th></th>\n",
       "      <th>M</th>\n",
       "      <th>N</th>\n",
       "      <th>P</th>\n",
       "      <th>Q</th>\n",
       "      <th>R</th>\n",
       "    </tr>\n",
       "  </thead>\n",
       "  <tbody>\n",
       "    <tr>\n",
       "      <th>A</th>\n",
       "      <td>1</td>\n",
       "      <td>2</td>\n",
       "      <td>3</td>\n",
       "      <td>4</td>\n",
       "      <td>5</td>\n",
       "    </tr>\n",
       "    <tr>\n",
       "      <th>B</th>\n",
       "      <td>2</td>\n",
       "      <td>3</td>\n",
       "      <td>2</td>\n",
       "      <td>5</td>\n",
       "      <td>3</td>\n",
       "    </tr>\n",
       "    <tr>\n",
       "      <th>C</th>\n",
       "      <td>5</td>\n",
       "      <td>5</td>\n",
       "      <td>5</td>\n",
       "      <td>3</td>\n",
       "      <td>2</td>\n",
       "    </tr>\n",
       "  </tbody>\n",
       "</table>\n",
       "</div>"
      ],
      "text/plain": [
       "   M  N  P  Q  R\n",
       "A  1  2  3  4  5\n",
       "B  2  3  2  5  3\n",
       "C  5  5  5  3  2"
      ]
     },
     "execution_count": 2,
     "metadata": {},
     "output_type": "execute_result"
    }
   ],
   "source": [
    "#Create dataframe\n",
    "m = {'M': [1,2,5], \n",
    "         'N': [2,3,5], \n",
    "         'P': [3,2,5], \n",
    "         'Q': [4,5,3], \n",
    "         'R': [5,3,2]}\n",
    "\n",
    "movies = pd.DataFrame(m, index = ['A', 'B', 'C'])\n",
    "\n",
    "#Preview dataframe\n",
    "movies"
   ]
  },
  {
   "cell_type": "code",
   "execution_count": 3,
   "metadata": {},
   "outputs": [
    {
     "data": {
      "text/plain": [
       "A    3.0\n",
       "B    3.0\n",
       "C    4.0\n",
       "dtype: float64"
      ]
     },
     "execution_count": 3,
     "metadata": {},
     "output_type": "execute_result"
    }
   ],
   "source": [
    "# find the mean for each row\n",
    "movies.mean(axis = 1)"
   ]
  },
  {
   "cell_type": "code",
   "execution_count": 4,
   "metadata": {},
   "outputs": [
    {
     "data": {
      "text/html": [
       "<div>\n",
       "<style scoped>\n",
       "    .dataframe tbody tr th:only-of-type {\n",
       "        vertical-align: middle;\n",
       "    }\n",
       "\n",
       "    .dataframe tbody tr th {\n",
       "        vertical-align: top;\n",
       "    }\n",
       "\n",
       "    .dataframe thead th {\n",
       "        text-align: right;\n",
       "    }\n",
       "</style>\n",
       "<table border=\"1\" class=\"dataframe\">\n",
       "  <thead>\n",
       "    <tr style=\"text-align: right;\">\n",
       "      <th></th>\n",
       "      <th>M</th>\n",
       "      <th>N</th>\n",
       "      <th>P</th>\n",
       "      <th>Q</th>\n",
       "      <th>R</th>\n",
       "    </tr>\n",
       "  </thead>\n",
       "  <tbody>\n",
       "    <tr>\n",
       "      <th>A</th>\n",
       "      <td>-2.0</td>\n",
       "      <td>-1.0</td>\n",
       "      <td>0.0</td>\n",
       "      <td>1.0</td>\n",
       "      <td>2.0</td>\n",
       "    </tr>\n",
       "    <tr>\n",
       "      <th>B</th>\n",
       "      <td>-1.0</td>\n",
       "      <td>0.0</td>\n",
       "      <td>-1.0</td>\n",
       "      <td>2.0</td>\n",
       "      <td>0.0</td>\n",
       "    </tr>\n",
       "    <tr>\n",
       "      <th>C</th>\n",
       "      <td>1.0</td>\n",
       "      <td>1.0</td>\n",
       "      <td>1.0</td>\n",
       "      <td>-1.0</td>\n",
       "      <td>-2.0</td>\n",
       "    </tr>\n",
       "  </tbody>\n",
       "</table>\n",
       "</div>"
      ],
      "text/plain": [
       "     M    N    P    Q    R\n",
       "A -2.0 -1.0  0.0  1.0  2.0\n",
       "B -1.0  0.0 -1.0  2.0  0.0\n",
       "C  1.0  1.0  1.0 -1.0 -2.0"
      ]
     },
     "execution_count": 4,
     "metadata": {},
     "output_type": "execute_result"
    }
   ],
   "source": [
    "# Minus mean of each row this is from each value in row\n",
    "df = movies.sub(movies.mean(axis = 1), axis = 0)\n",
    "df"
   ]
  },
  {
   "cell_type": "code",
   "execution_count": 5,
   "metadata": {},
   "outputs": [
    {
     "data": {
      "text/plain": [
       "M   -0.666667\n",
       "N    0.000000\n",
       "P    0.000000\n",
       "Q    0.666667\n",
       "R    0.000000\n",
       "dtype: float64"
      ]
     },
     "execution_count": 5,
     "metadata": {},
     "output_type": "execute_result"
    }
   ],
   "source": [
    "# find the mean for each column\n",
    "\n",
    "df.mean()"
   ]
  },
  {
   "cell_type": "code",
   "execution_count": 6,
   "metadata": {},
   "outputs": [
    {
     "data": {
      "text/html": [
       "<div>\n",
       "<style scoped>\n",
       "    .dataframe tbody tr th:only-of-type {\n",
       "        vertical-align: middle;\n",
       "    }\n",
       "\n",
       "    .dataframe tbody tr th {\n",
       "        vertical-align: top;\n",
       "    }\n",
       "\n",
       "    .dataframe thead th {\n",
       "        text-align: right;\n",
       "    }\n",
       "</style>\n",
       "<table border=\"1\" class=\"dataframe\">\n",
       "  <thead>\n",
       "    <tr style=\"text-align: right;\">\n",
       "      <th></th>\n",
       "      <th>M</th>\n",
       "      <th>N</th>\n",
       "      <th>P</th>\n",
       "      <th>Q</th>\n",
       "      <th>R</th>\n",
       "    </tr>\n",
       "  </thead>\n",
       "  <tbody>\n",
       "    <tr>\n",
       "      <th>A</th>\n",
       "      <td>-1.333333</td>\n",
       "      <td>-1.0</td>\n",
       "      <td>0.0</td>\n",
       "      <td>0.333333</td>\n",
       "      <td>2.0</td>\n",
       "    </tr>\n",
       "    <tr>\n",
       "      <th>B</th>\n",
       "      <td>-0.333333</td>\n",
       "      <td>0.0</td>\n",
       "      <td>-1.0</td>\n",
       "      <td>1.333333</td>\n",
       "      <td>0.0</td>\n",
       "    </tr>\n",
       "    <tr>\n",
       "      <th>C</th>\n",
       "      <td>1.666667</td>\n",
       "      <td>1.0</td>\n",
       "      <td>1.0</td>\n",
       "      <td>-1.666667</td>\n",
       "      <td>-2.0</td>\n",
       "    </tr>\n",
       "  </tbody>\n",
       "</table>\n",
       "</div>"
      ],
      "text/plain": [
       "          M    N    P         Q    R\n",
       "A -1.333333 -1.0  0.0  0.333333  2.0\n",
       "B -0.333333  0.0 -1.0  1.333333  0.0\n",
       "C  1.666667  1.0  1.0 -1.666667 -2.0"
      ]
     },
     "execution_count": 6,
     "metadata": {},
     "output_type": "execute_result"
    }
   ],
   "source": [
    "\n",
    "# minus the mean of each column from each value in column\n",
    "df = df.sub(df.mean(axis = 0), axis = 1)\n",
    "df"
   ]
  },
  {
   "cell_type": "markdown",
   "metadata": {},
   "source": [
    "## Part B"
   ]
  },
  {
   "cell_type": "code",
   "execution_count": 7,
   "metadata": {},
   "outputs": [],
   "source": [
    "# create an array for each row\n",
    "a = np.array([1,0,1,0,1,2])\n",
    "b = np.array([1,1,0,0,1,6])\n",
    "c = np.array([0,1,0,1,0,2])\n",
    "\n",
    "# create label for each row\n",
    "rows = ['a','b', 'c']\n",
    "labels = [a,b,c]"
   ]
  },
  {
   "cell_type": "code",
   "execution_count": 8,
   "metadata": {},
   "outputs": [],
   "source": [
    "# cosine distance function that takes 2 inputs\n",
    "def cosDist(x, y):\n",
    "    return np.dot(x, y) / (np.sqrt(np.sum(np.power(x, 2))) * np.sqrt(np.sum(np.power(y, 2))))\n",
    "\n",
    "# weighted cosine that takes x, y, attr_index, and alpha \n",
    "def weightcos(x, y, attr_index, alpha):\n",
    "    a = np.copy(x)\n",
    "    b = np.copy(y)\n",
    "    \n",
    "    if len(x) != len(y):\n",
    "        print('Lengths do no match')\n",
    "        return 0\n",
    "    \n",
    "    # assign weights to attributes\n",
    "    a[attr_index] = a[attr_index] * alpha\n",
    "    b[attr_index] = b[attr_index] * alpha\n",
    "    \n",
    "    # return cosDist with the weights\n",
    "    return cosDist(a,b)"
   ]
  },
  {
   "cell_type": "code",
   "execution_count": 9,
   "metadata": {},
   "outputs": [
    {
     "name": "stdout",
     "output_type": "stream",
     "text": [
      "a - b | 0  : 0.6667\n",
      "a - b | 0.5: 0.7217\n",
      "a - b | 1  : 0.8473\n",
      "a - b | 2  : 0.9461\n",
      "a - c | 0  : 0.0\n",
      "a - c | 0.5: 0.2887\n",
      "a - c | 1  : 0.6172\n",
      "a - c | 2  : 0.8652\n",
      "b - a | 0  : 0.6667\n",
      "b - a | 0.5: 0.7217\n",
      "b - a | 1  : 0.8473\n",
      "b - a | 2  : 0.9461\n",
      "b - c | 0  : 0.4082\n",
      "b - c | 0.5: 0.6667\n",
      "b - c | 1  : 0.8498\n",
      "b - c | 2  : 0.9526\n",
      "c - a | 0  : 0.0\n",
      "c - a | 0.5: 0.2887\n",
      "c - a | 1  : 0.6172\n",
      "c - a | 2  : 0.8652\n",
      "c - b | 0  : 0.4082\n",
      "c - b | 0.5: 0.6667\n",
      "c - b | 1  : 0.8498\n",
      "c - b | 2  : 0.9526\n"
     ]
    }
   ],
   "source": [
    "# weights\n",
    "index = 5\n",
    "weights = [0,0.5,1,2]\n",
    "\n",
    "# print each angle cosine for each pair\n",
    "for i, (r,l) in enumerate(zip(labels, rows)):\n",
    "    for j in range(len(labels)):\n",
    "        if i == j:\n",
    "            next\n",
    "        else:\n",
    "            for w in weights:\n",
    "                angle_cosine = weightcos(r, labels[j], index, w)\n",
    "                print(f'{rows[i]} - {rows[j]} | {w:<3}: {round(angle_cosine,4)}')"
   ]
  },
  {
   "cell_type": "markdown",
   "metadata": {},
   "source": [
    "## Part C"
   ]
  },
  {
   "cell_type": "code",
   "execution_count": 11,
   "metadata": {},
   "outputs": [
    {
     "data": {
      "text/plain": [
       "array([0.28571429, 0.42857143, 0.85714286])"
      ]
     },
     "execution_count": 11,
     "metadata": {},
     "output_type": "execute_result"
    }
   ],
   "source": [
    "\n",
    "col1 = np.array([2/7, 3/7, 6/7])\n",
    "col1"
   ]
  },
  {
   "cell_type": "markdown",
   "metadata": {},
   "source": [
    "## Part D"
   ]
  },
  {
   "cell_type": "code",
   "execution_count": 14,
   "metadata": {},
   "outputs": [
    {
     "name": "stdout",
     "output_type": "stream",
     "text": [
      "[[-0.77512996 -0.63180182]\n",
      " [ 0.63180182 -0.77512996]]\n"
     ]
    },
    {
     "data": {
      "text/plain": [
       "array([ 0.14344504, 34.85655496])"
      ]
     },
     "execution_count": 14,
     "metadata": {},
     "output_type": "execute_result"
    }
   ],
   "source": [
    "# create an array for the points\n",
    "x = np.array([[1,1], [2,2], [3,4]])\n",
    "y = np.dot(x.transpose(), x)\n",
    "\n",
    "eigvals, eigvecs = la.eig(y)\n",
    "\n",
    "print(eigvecs)\n",
    "\n",
    "eigvals.real"
   ]
  },
  {
   "cell_type": "markdown",
   "metadata": {},
   "source": [
    "## Part E"
   ]
  },
  {
   "cell_type": "code",
   "execution_count": 15,
   "metadata": {},
   "outputs": [
    {
     "data": {
      "text/plain": [
       "0"
      ]
     },
     "execution_count": 15,
     "metadata": {},
     "output_type": "execute_result"
    }
   ],
   "source": [
    "# create orthogonal vector\n",
    "v = np.array([1,2,3])\n",
    "\n",
    "u = np.array([1,1,-1])\n",
    "np.dot(v,u)"
   ]
  },
  {
   "cell_type": "markdown",
   "metadata": {},
   "source": [
    "## Part F"
   ]
  },
  {
   "cell_type": "code",
   "execution_count": 16,
   "metadata": {},
   "outputs": [
    {
     "data": {
      "text/plain": [
       "array([[1. , 0. , 0. ],\n",
       "       [0. , 0.5, 0. ],\n",
       "       [0. , 0. , 0. ]])"
      ]
     },
     "execution_count": 16,
     "metadata": {},
     "output_type": "execute_result"
    }
   ],
   "source": [
    "# dataframe from matrix M\n",
    "M = pd.DataFrame(np.array([[1, 0, 0], [0, 2, 0], [0, 0, 0]]))\n",
    "\n",
    "# Moore-Penrose pseudoinverse\n",
    "np.linalg.pinv(M)"
   ]
  },
  {
   "cell_type": "code",
   "execution_count": null,
   "metadata": {},
   "outputs": [],
   "source": []
  }
 ],
 "metadata": {
  "kernelspec": {
   "display_name": "Python 3",
   "language": "python",
   "name": "python3"
  },
  "language_info": {
   "codemirror_mode": {
    "name": "ipython",
    "version": 3
   },
   "file_extension": ".py",
   "mimetype": "text/x-python",
   "name": "python",
   "nbconvert_exporter": "python",
   "pygments_lexer": "ipython3",
   "version": "3.7.6"
  }
 },
 "nbformat": 4,
 "nbformat_minor": 4
}
